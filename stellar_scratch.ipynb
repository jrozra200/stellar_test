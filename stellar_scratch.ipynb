{
 "cells": [
  {
   "cell_type": "code",
   "execution_count": 1,
   "metadata": {},
   "outputs": [
    {
     "name": "stdout",
     "output_type": "stream",
     "text": [
      "Secret: SCMGGBWLQROWB7KKRKQFPZTSZKTRFITBEJN4JNZRCVVTRWCOTXM3EZDG\n",
      "Public Key: GD2DKYCT5CUBZEIOOYVYLA7UHSRONZGJLKJZG32XPUGMA4UKKRTFGL43\n"
     ]
    }
   ],
   "source": [
    "# stellar-sdk >= 2.0.0 required\n",
    "# create a completely new and unique pair of keys\n",
    "# see more about KeyPair objects: https://stellar-sdk.readthedocs.io/en/latest/api.html#keypair\n",
    "from stellar_sdk.keypair import Keypair\n",
    "\n",
    "pair = Keypair.random()\n",
    "print(f\"Secret: {pair.secret}\")\n",
    "print(f\"Public Key: {pair.public_key}\")\n"
   ]
  },
  {
   "cell_type": "code",
   "execution_count": null,
   "metadata": {},
   "outputs": [],
   "source": [
    "## PROBABLY NEED TO SAVE A KEY AT SOME POINT"
   ]
  },
  {
   "cell_type": "code",
   "execution_count": 3,
   "metadata": {},
   "outputs": [
    {
     "name": "stdout",
     "output_type": "stream",
     "text": [
      "SUCCESS! You have a new account :)\n",
      "{\n",
      "  \"_links\": {\n",
      "    \"self\": {\n",
      "      \"href\": \"https://horizon-testnet.stellar.org/transactions/d7b638bbbe60621f7f83a38b2358ed66938fc41c46077dbf2aaefea15cd2fa54\"\n",
      "    },\n",
      "    \"account\": {\n",
      "      \"href\": \"https://horizon-testnet.stellar.org/accounts/GANIXB4KG6O2DW4YZP654LESF3KHH7PTPJHJ3D2F4VFZ3633KA6UY57G\"\n",
      "    },\n",
      "    \"ledger\": {\n",
      "      \"href\": \"https://horizon-testnet.stellar.org/ledgers/815605\"\n",
      "    },\n",
      "    \"operations\": {\n",
      "      \"href\": \"https://horizon-testnet.stellar.org/transactions/d7b638bbbe60621f7f83a38b2358ed66938fc41c46077dbf2aaefea15cd2fa54/operations{?cursor,limit,order}\",\n",
      "      \"templated\": true\n",
      "    },\n",
      "    \"effects\": {\n",
      "      \"href\": \"https://horizon-testnet.stellar.org/transactions/d7b638bbbe60621f7f83a38b2358ed66938fc41c46077dbf2aaefea15cd2fa54/effects{?cursor,limit,order}\",\n",
      "      \"templated\": true\n",
      "    },\n",
      "    \"precedes\": {\n",
      "      \"href\": \"https://horizon-testnet.stellar.org/transactions?order=asc\\u0026cursor=3502996801458176\"\n",
      "    },\n",
      "    \"succeeds\": {\n",
      "      \"href\": \"https://horizon-testnet.stellar.org/transactions?order=desc\\u0026cursor=3502996801458176\"\n",
      "    },\n",
      "    \"transaction\": {\n",
      "      \"href\": \"https://horizon-testnet.stellar.org/transactions/d7b638bbbe60621f7f83a38b2358ed66938fc41c46077dbf2aaefea15cd2fa54\"\n",
      "    }\n",
      "  },\n",
      "  \"id\": \"d7b638bbbe60621f7f83a38b2358ed66938fc41c46077dbf2aaefea15cd2fa54\",\n",
      "  \"paging_token\": \"3502996801458176\",\n",
      "  \"successful\": true,\n",
      "  \"hash\": \"d7b638bbbe60621f7f83a38b2358ed66938fc41c46077dbf2aaefea15cd2fa54\",\n",
      "  \"ledger\": 815605,\n",
      "  \"created_at\": \"2020-12-17T00:18:07Z\",\n",
      "  \"source_account\": \"GANIXB4KG6O2DW4YZP654LESF3KHH7PTPJHJ3D2F4VFZ3633KA6UY57G\",\n",
      "  \"source_account_sequence\": \"3494561485684737\",\n",
      "  \"fee_account\": \"GANIXB4KG6O2DW4YZP654LESF3KHH7PTPJHJ3D2F4VFZ3633KA6UY57G\",\n",
      "  \"fee_charged\": \"100\",\n",
      "  \"max_fee\": \"100000\",\n",
      "  \"operation_count\": 1,\n",
      "  \"envelope_xdr\": \"AAAAAgAAAAAai4eKN52h25jL/d4ski7Uc/3zek6dj0XlS537e1A9TAABhqAADGpJAAAAAQAAAAEAAAAAAAAAAAAAAAAAAAAAAAAAAAAAAAEAAAABAAAAABB90WssODNIgi6BHveqzxTRmIpvAFRyVNM+Hm2GVuCcAAAAAAAAAAD0NWBT6KgckQ52K4WD9Dyi5uTJWpOTb1d9DMByilRmUwAAABdIdugAAAAAAAAAAAJ7UD1MAAAAQLpDqorZuAAEIvttG1+xpsUrWrpOLYU4O89DsCdyJh8kEzhLzibi7eEASdUW8jPqktGBUe0vMecu2Tm3Qxn3JQ2GVuCcAAAAQE/MbZMS/1xb1Ogya60x4IjLTbsNM4HS1b9MFjl2zxb9S8HshgAZ77QIpsbG3KCdxAm56IiJ0RrHvFFL8iTxmwc=\",\n",
      "  \"result_xdr\": \"AAAAAAAAAGQAAAAAAAAAAQAAAAAAAAAAAAAAAAAAAAA=\",\n",
      "  \"result_meta_xdr\": \"AAAAAgAAAAIAAAADAAxx9QAAAAAAAAAAGouHijedoduYy/3eLJIu1HP983pOnY9F5Uud+3tQPUwAAAAAPDNgHAAMakkAAAAAAAAAAAAAAAAAAAAAAAAAAAEAAAAAAAAAAAAAAAAAAAAAAAABAAxx9QAAAAAAAAAAGouHijedoduYy/3eLJIu1HP983pOnY9F5Uud+3tQPUwAAAAAPDNgHAAMakkAAAABAAAAAAAAAAAAAAAAAAAAAAEAAAAAAAAAAAAAAAAAAAAAAAABAAAAAwAAAAMADHHqAAAAAAAAAAAQfdFrLDgzSIIugR73qs8U0ZiKbwBUclTTPh5thlbgnAD1zgMWfIZ0AAAAbAAAA0EAAAAAAAAAAAAAAAAAAAAAAQAAAAAAAAAAAAAAAAAAAAAAAAEADHH1AAAAAAAAAAAQfdFrLDgzSIIugR73qs8U0ZiKbwBUclTTPh5thlbgnAD1zevOBZ50AAAAbAAAA0EAAAAAAAAAAAAAAAAAAAAAAQAAAAAAAAAAAAAAAAAAAAAAAAAADHH1AAAAAAAAAAD0NWBT6KgckQ52K4WD9Dyi5uTJWpOTb1d9DMByilRmUwAAABdIdugAAAxx9QAAAAAAAAAAAAAAAAAAAAAAAAAAAQAAAAAAAAAAAAAAAAAAAAAAAAA=\",\n",
      "  \"fee_meta_xdr\": \"AAAAAgAAAAMADGpJAAAAAAAAAAAai4eKN52h25jL/d4ski7Uc/3zek6dj0XlS537e1A9TAAAAAA8M2CAAAxqSQAAAAAAAAAAAAAAAAAAAAAAAAAAAQAAAAAAAAAAAAAAAAAAAAAAAAEADHH1AAAAAAAAAAAai4eKN52h25jL/d4ski7Uc/3zek6dj0XlS537e1A9TAAAAAA8M2AcAAxqSQAAAAAAAAAAAAAAAAAAAAAAAAAAAQAAAAAAAAAAAAAAAAAAAA==\",\n",
      "  \"memo_type\": \"none\",\n",
      "  \"signatures\": [\n",
      "    \"ukOqitm4AAQi+20bX7GmxStauk4thTg7z0OwJ3ImHyQTOEvOJuLt4QBJ1RbyM+qS0YFR7S8x5y7ZObdDGfclDQ==\",\n",
      "    \"T8xtkxL/XFvU6DJrrTHgiMtNuw0zgdLVv0wWOXbPFv1LweyGABnvtAimxsbcoJ3ECbnoiInRGse8UUvyJPGbBw==\"\n",
      "  ],\n",
      "  \"valid_after\": \"1970-01-01T00:00:00Z\"\n",
      "}\n"
     ]
    }
   ],
   "source": [
    "# The SDK does not have tools for creating test accounts, so you'll have to\n",
    "# make your own HTTP request.\n",
    "\n",
    "import requests\n",
    "\n",
    "public_key = pair.public_key\n",
    "response = requests.get(f\"https://friendbot.stellar.org?addr={public_key}\")\n",
    "if response.status_code == 200:\n",
    "    print(f\"SUCCESS! You have a new account :)\\n{response.text}\")\n",
    "else:\n",
    "    print(f\"ERROR! Response: \\n{response.text}\")"
   ]
  },
  {
   "cell_type": "code",
   "execution_count": 4,
   "metadata": {},
   "outputs": [
    {
     "name": "stdout",
     "output_type": "stream",
     "text": [
      "Type: native, Balance: 10000.0000000\n"
     ]
    }
   ],
   "source": [
    "### GET ME SOME FAKE MONEY\n",
    "\n",
    "from stellar_sdk.server import Server\n",
    "\n",
    "server = Server(\"https://horizon-testnet.stellar.org\")\n",
    "public_key = pair.public_key\n",
    "account = server.accounts().account_id(public_key).call()\n",
    "for balance in account['balances']:\n",
    "    print(f\"Type: {balance['asset_type']}, Balance: {balance['balance']}\")"
   ]
  }
 ],
 "metadata": {
  "kernelspec": {
   "display_name": "Python 3",
   "language": "python",
   "name": "python3"
  },
  "language_info": {
   "codemirror_mode": {
    "name": "ipython",
    "version": 3
   },
   "file_extension": ".py",
   "mimetype": "text/x-python",
   "name": "python",
   "nbconvert_exporter": "python",
   "pygments_lexer": "ipython3",
   "version": "3.8.5"
  }
 },
 "nbformat": 4,
 "nbformat_minor": 4
}
